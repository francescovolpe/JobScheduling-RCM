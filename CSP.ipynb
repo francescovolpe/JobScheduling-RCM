{
 "cells": [
  {
   "cell_type": "code",
   "execution_count": null,
   "metadata": {},
   "outputs": [],
   "source": [
    "#Associazione di un identificativo al nome dell'attività\n",
    "#chiave: IdAttivita\n",
    "#valore: nomeAttivita\n",
    "dizionario_attivita = { \n",
    "                      '010' : 'garage',\n",
    "                      '020' : 'serra',\n",
    "                      '030' : 'fondazioni e solaio',\n",
    "                      '040' : 'murature',\n",
    "                      '050' : 'copertura',\n",
    "                      '060' : 'porte e serramenti esterni',\n",
    "                      '070' : 'impianto idraulico',\n",
    "                      '080' : 'sanitari',\n",
    "                      '090' : 'impianto elettrico',\n",
    "                      '100' : 'finiture',\n",
    "                      '110' : 'pitturazioni',\n",
    "                      '120' : 'sistemazione della strada',\n",
    "                      '130' : 'giardino',\n",
    "                      '140' : 'recinzione'}"
   ]
  },
  {
   "cell_type": "code",
   "execution_count": null,
   "metadata": {},
   "outputs": [],
   "source": [
    "#Tempo di default delle attività\n",
    "#chiave: IdAttivita\n",
    "#valore: tempo\n",
    "tempo_attivita = {'inizio': 0,\n",
    "                '010': 3, \n",
    "                '020': 3, \n",
    "                '030': 5,\n",
    "                '040': 3, \n",
    "                '050': 5,\n",
    "                '060': 3,\n",
    "                '070': 2, \n",
    "                '080': 1, \n",
    "                '090': 4, \n",
    "                '100': 2, \n",
    "                '110': 2,\n",
    "                '120': 2,\n",
    "                '130': 4,\n",
    "                '140': 4,\n",
    "                'fine': 0}"
   ]
  },
  {
   "cell_type": "code",
   "execution_count": null,
   "metadata": {},
   "outputs": [],
   "source": [
    "#Associazioni degli operai alle attività che possono svolgere \n",
    "#chiave: IdAttivita\n",
    "#valore: lista di identificativi di operai\n",
    "attivita_operai = {\n",
    "    '010': ['0001', '0002','0029'],\n",
    "    '020': ['0003', '0004','0030'],\n",
    "    '030': ['0005', '0006','0031'],\n",
    "    '040': ['0007', '0008','0032'],\n",
    "    '050': ['0009', '0010','0033'],\n",
    "    '060': ['0011', '0012','0034'],\n",
    "    '070': ['0013', '0014','0035'],\n",
    "    '080': ['0015', '0016','0036'],\n",
    "    '090': ['0017', '0018','0037'],\n",
    "    '100': ['0019', '0020','0038'],\n",
    "    '110': ['0021', '0022','0039'],\n",
    "    '120': ['0023', '0024','0040'],\n",
    "    '130': ['0025', '0026','0041'],\n",
    "    '140': ['0027', '0028','0042'],\n",
    "}"
   ]
  },
  {
   "cell_type": "code",
   "execution_count": null,
   "metadata": {},
   "outputs": [],
   "source": [
    "listaCase = []\n",
    "N_case = int (input(\"Inserisci un numero di case: \"))\n",
    "\n",
    "for x in range(N_case):\n",
    "  listaCase.append(tempo_attivita)\n",
    "\n",
    "listaCase"
   ]
  },
  {
   "cell_type": "code",
   "execution_count": null,
   "metadata": {},
   "outputs": [],
   "source": [
    "def modificaTempo():\n",
    "    tempoCasa = {}\n",
    "    for key in tempo_attivita:\n",
    "        if (key == \"inizio\") or (key == \"fine\"):\n",
    "            tempoCasa[key] = 0\n",
    "        else:\n",
    "            tempoCasa[key] = int (input (\"Tempo per \" + dizionario_attivita[key] + \":\"))\n",
    "    return tempoCasa"
   ]
  },
  {
   "cell_type": "code",
   "execution_count": null,
   "metadata": {},
   "outputs": [],
   "source": [
    "risposteAffermative = [\"si\", \"Si\", \"SI\", \"sI\", \"S\", \"s\"]\n",
    "risposteNegative = [\"no\", \"No\", \"nO\", \"NO\", \"n\", \"N\"]\n",
    "risposta = \"\"\n",
    "while (risposta not in risposteAffermative) and (risposta not in risposteNegative):\n",
    "    risposta = input(\"Vuoi modificare i tempi delle attivita delle case?:  \")\n",
    "\n",
    "if risposta in risposteAffermative:\n",
    "    caseDaModificare = 0\n",
    "    while 1:\n",
    "        caseDaModificare = int (input (\"Per quante case vuoi cambiare i tempi predefiniti: \"))\n",
    "        if caseDaModificare > 0 and caseDaModificare <= N_case:\n",
    "            for i in range(caseDaModificare):\n",
    "                print (\"Inserisci i tempi per ogni attivita. Casa numero: \", i+1)\n",
    "                listaCase[i] = modificaTempo()\n",
    "            break;\n",
    "        else:\n",
    "            print (\"Numero di case da modificare non consentito\")"
   ]
  },
  {
   "cell_type": "code",
   "execution_count": null,
   "metadata": {},
   "outputs": [],
   "source": [
    "listaCase"
   ]
  },
  {
   "cell_type": "code",
   "execution_count": null,
   "metadata": {},
   "outputs": [],
   "source": [
    "#grafo che rappresenta l'ordine delle attività\n",
    "grafo = { 'inizio': ['030', '120'],\n",
    "          '030': ['040'],\n",
    "          '120': ['040', '010', '140'],\n",
    "          '040': ['070', '060', '050'],\n",
    "          '010': ['020'],\n",
    "          '140': ['130'],\n",
    "          '070': ['100'],\n",
    "          '060': ['090'],\n",
    "          '050': ['090', '080'],\n",
    "          '020': ['110'],\n",
    "          '130': ['fine'],\n",
    "          '100': ['110'],\n",
    "          '090': ['110'],\n",
    "          '080': ['110'],\n",
    "          '110': ['fine'],\n",
    "          'fine': []         \n",
    "}"
   ]
  },
  {
   "cell_type": "code",
   "execution_count": null,
   "metadata": {},
   "outputs": [],
   "source": [
    "#Ricavare una lista di tuple contentente l'attività e il giorno in cui termina (per ogni casa) \n",
    "from ricercaBfs import bfsMod, filtroTempoAttivita\n",
    "\n",
    "fineAttivita = []\n",
    "\n",
    "for i in range(N_case):\n",
    "    fineAttivita.append ( bfsMod(grafo, ('inizio', '0'), listaCase[i]) )\n",
    "    fineAttivita[i] = filtroTempoAttivita(fineAttivita[i], dizionario_attivita)\n",
    "\n",
    "fineAttivita"
   ]
  },
  {
   "cell_type": "code",
   "execution_count": null,
   "metadata": {},
   "outputs": [],
   "source": [
    "#Creazione delle variabili in una lista: variabili \n",
    "#Ogni variabile sarà una stringa del tipo:-  'GiornoInizioAttività'_'Casa'_'Attività'\n",
    "variabili = []\n",
    "for casa in range(N_case):\n",
    "  for attivita in fineAttivita[casa]:\n",
    "    tempoInizio = attivita[1] - listaCase[casa][attivita[0]] + 1\n",
    "\n",
    "    while tempoInizio != attivita[1] + 1 :\n",
    "      variabili.append (\"G\" + str(tempoInizio) + \"_C\" + str(casa) + \"_\" + attivita[0])\n",
    "      tempoInizio += 1\n",
    "      \n",
    "variabili"
   ]
  },
  {
   "cell_type": "code",
   "execution_count": null,
   "metadata": {},
   "outputs": [],
   "source": [
    "#Creazione di un dizionario contente le variabili e i loro domini\n",
    "VarConDominio = {}\n",
    "for variabile in variabili:\n",
    "  VarConDominio[variabile] = attivita_operai[(variabile[len(variabile)-3:])]\n",
    "VarConDominio"
   ]
  },
  {
   "cell_type": "code",
   "execution_count": null,
   "metadata": {},
   "outputs": [],
   "source": [
    "from cspProblem import CSP, Constraint        \n",
    "from operator import lt,ne,eq,gt"
   ]
  },
  {
   "cell_type": "code",
   "execution_count": null,
   "metadata": {},
   "outputs": [],
   "source": [
    "#Definizione dei vincoli tra le variabili\n",
    "vincoli = []\n",
    "coppia = []\n",
    "for var1 in VarConDominio:\n",
    "    for var2 in VarConDominio:\n",
    "\n",
    "        giornoVar1 = var1.index('_')\n",
    "        giornoVar1 = var1[:giornoVar1]\n",
    "        giornoVar2 = var2.index('_')\n",
    "        giornoVar2 = var2[:giornoVar2]\n",
    "\n",
    "    \n",
    "        if (giornoVar1 == giornoVar2) and (var1!=var2):\n",
    "            temp = [var1,var2]\n",
    "            temp.reverse()\n",
    "            if temp not in coppia:\n",
    "                vincoli.append ( Constraint([var1, var2], ne) )\n",
    "                temp.reverse()\n",
    "                coppia.append(temp)\n",
    "\n",
    "\n",
    "vincoli"
   ]
  },
  {
   "cell_type": "code",
   "execution_count": null,
   "metadata": {},
   "outputs": [],
   "source": [
    "#Definizione dei vincoli tra le variabili\n",
    "vincoli = []\n",
    "for var1 in VarConDominio:\n",
    "  for var2 in VarConDominio:\n",
    "\n",
    "    giornoVar1 = var1.index('_')\n",
    "    giornoVar1 = var1[:giornoVar1]\n",
    "    giornoVar2 = var2.index('_')\n",
    "    giornoVar2 = var2[:giornoVar2]\n",
    "\n",
    "    if giornoVar1 == giornoVar2 and var1!=var2:\n",
    "      vincoli.append ( Constraint([var1, var2], ne) )\n",
    "\n",
    "vincoli"
   ]
  },
  {
   "cell_type": "code",
   "execution_count": null,
   "metadata": {},
   "outputs": [],
   "source": [
    "csp = CSP (VarConDominio, vincoli )"
   ]
  },
  {
   "cell_type": "code",
   "execution_count": null,
   "metadata": {},
   "outputs": [],
   "source": [
    "#Risoluzione CSP tramite ricerca\n",
    "from searchGeneric import Searcher\n",
    "from cspSearch import Search_from_CSP \n",
    "\n",
    "\n",
    "searcher1 = Searcher(Search_from_CSP(csp))\n",
    "print(searcher1.search())  # prossima soluzione"
   ]
  }
 ],
 "metadata": {
  "kernelspec": {
   "display_name": "Python 3",
   "language": "python",
   "name": "python3"
  },
  "language_info": {
   "codemirror_mode": {
    "name": "ipython",
    "version": 3
   },
   "file_extension": ".py",
   "mimetype": "text/x-python",
   "name": "python",
   "nbconvert_exporter": "python",
   "pygments_lexer": "ipython3",
   "version": "3.8.11"
  }
 },
 "nbformat": 4,
 "nbformat_minor": 4
}
